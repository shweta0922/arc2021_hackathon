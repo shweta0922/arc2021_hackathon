{
 "cells": [
  {
   "cell_type": "code",
   "execution_count": 9,
   "metadata": {},
   "outputs": [],
   "source": [
    "    def get_year(self, text, education):\n",
    "    \n",
    "        text_lines = text.splitlines()\n",
    "        passing_year = []\n",
    "        for line in text_lines:\n",
    "            for degree in education:\n",
    "                if degree.lower().strip() in line:\n",
    "                    year = re.findall('((?:19|20)\\d\\d)', line)\n",
    "                    p_year = {}\n",
    "                    if len(year) > 1:\n",
    "                        year = '-'.join(year)\n",
    "                        p_year[degree]= year\n",
    "                        passing_year.append(p_year)\n",
    "                        break\n",
    "                    elif len(year) == 1:\n",
    "                        p_year[degree]= year\n",
    "                        passing_year.append(p_year)\n",
    "                        break\n",
    "        return passing_year\n",
    "    \n",
    "        passing_year.sort()\n",
    "        diff_list = [] \n",
    "        for x, y in zip(passing_year[0::], passing_year[1::]):\n",
    "            diff_list.append(y-x) \n",
    "        return diff_list\n"
   ]
  },
  {
   "cell_type": "code",
   "execution_count": null,
   "metadata": {},
   "outputs": [],
   "source": [
    "#call the function, 'text' contains the data parsed from resume\n",
    "#pass_year = self.get_year(text.lower(), education)"
   ]
  }
 ],
 "metadata": {
  "kernelspec": {
   "display_name": "Python 3",
   "language": "python",
   "name": "python3"
  },
  "language_info": {
   "codemirror_mode": {
    "name": "ipython",
    "version": 3
   },
   "file_extension": ".py",
   "mimetype": "text/x-python",
   "name": "python",
   "nbconvert_exporter": "python",
   "pygments_lexer": "ipython3",
   "version": "3.7.0"
  }
 },
 "nbformat": 4,
 "nbformat_minor": 4
}
